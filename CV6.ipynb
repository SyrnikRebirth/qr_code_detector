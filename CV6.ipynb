{
  "nbformat": 4,
  "nbformat_minor": 0,
  "metadata": {
    "colab": {
      "name": "CV6.ipynb",
      "provenance": [],
      "collapsed_sections": [],
      "authorship_tag": "ABX9TyOHYRZZdYJpevAj2VHhFGGG",
      "include_colab_link": true
    },
    "kernelspec": {
      "name": "python3",
      "display_name": "Python 3"
    },
    "language_info": {
      "name": "python"
    }
  },
  "cells": [
    {
      "cell_type": "markdown",
      "metadata": {
        "id": "view-in-github",
        "colab_type": "text"
      },
      "source": [
        "<a href=\"https://colab.research.google.com/github/SyrnikRebirth/qr_code_detector/blob/main/CV6.ipynb\" target=\"_parent\"><img src=\"https://colab.research.google.com/assets/colab-badge.svg\" alt=\"Open In Colab\"/></a>"
      ]
    },
    {
      "cell_type": "markdown",
      "source": [
        "Подтянем картинки"
      ],
      "metadata": {
        "id": "DfpWRjwiH3u8"
      }
    },
    {
      "cell_type": "code",
      "source": [
        "from google.colab import drive\n",
        "drive.mount(\"/content/drive\")"
      ],
      "metadata": {
        "colab": {
          "base_uri": "https://localhost:8080/"
        },
        "id": "HvNNofufwoIU",
        "outputId": "d90bded4-67c3-46d1-d19b-7c0f32af2946"
      },
      "execution_count": 1,
      "outputs": [
        {
          "output_type": "stream",
          "name": "stdout",
          "text": [
            "Mounted at /content/drive\n"
          ]
        }
      ]
    },
    {
      "cell_type": "code",
      "source": [
        "!git clone https://github.com/SyrnikRebirth/qr_code_detector.git"
      ],
      "metadata": {
        "colab": {
          "base_uri": "https://localhost:8080/"
        },
        "id": "RbAug88-HjjK",
        "outputId": "66a3bfa6-6719-495e-b517-8ab3591ec73f"
      },
      "execution_count": 20,
      "outputs": [
        {
          "output_type": "stream",
          "name": "stdout",
          "text": [
            "fatal: repository 'chto-to-tam' does not exist\n"
          ]
        }
      ]
    },
    {
      "cell_type": "markdown",
      "source": [
        "А теперь зафиксируем в какой папке мы работаем"
      ],
      "metadata": {
        "id": "zNCXV_BcH9gM"
      }
    },
    {
      "cell_type": "code",
      "source": [
        "dataset_path = './drive/MyDrive/TestSet1'"
      ],
      "metadata": {
        "id": "QCEc39YBwtTq"
      },
      "execution_count": 12,
      "outputs": []
    },
    {
      "cell_type": "markdown",
      "source": [
        "Основная идея - для того чтобы найти find pattern надо найти вложенные друг в друга квадратики."
      ],
      "metadata": {
        "id": "4G0FLRtSHnuW"
      }
    },
    {
      "cell_type": "code",
      "source": [
        "import cv2\n",
        "import numpy as np"
      ],
      "metadata": {
        "id": "WTBqi31h8iAE"
      },
      "execution_count": 13,
      "outputs": []
    },
    {
      "cell_type": "code",
      "source": [
        "def img_preprocess(input_img):\n",
        "    img = input_img.copy()\n",
        "    img = cv2.cvtColor(img, cv2.COLOR_BGR2GRAY)\n",
        "    # Уменьшили шум\n",
        "    img = cv2.GaussianBlur(img, (9, 9), 0)\n",
        "    # Адаптивная бинаризация чтобы получить хорошее изображение для накидывания поиска контуров\n",
        "    img = cv2.adaptiveThreshold(img, 255, cv2.ADAPTIVE_THRESH_GAUSSIAN_C, cv2.THRESH_BINARY, 13, 2)\n",
        "    # Еще раз уменьшаем \n",
        "    img = cv2.medianBlur(img, 9)\n",
        "\n",
        "    return img"
      ],
      "metadata": {
        "id": "DxgfNlt4JOU8"
      },
      "execution_count": 14,
      "outputs": []
    },
    {
      "cell_type": "code",
      "source": [
        "def detect_find_patterns(hierarchy, contours):\n",
        "    good_contours_indxs = []\n",
        "    good_families = []\n",
        "    # итерируемся по кандидатам\n",
        "    for i in range(hierarchy.shape[0]):\n",
        "        family = [i]\n",
        "        child = hierarchy[i, 2]\n",
        "        while child != -1:\n",
        "            family.append(child)\n",
        "            child = hierarchy[child, 2]\n",
        "        if len(family) < 3:\n",
        "            continue\n",
        "        \n",
        "        # Попытаемся найти форму контура, если в форме не 4 точки, то пропускаем\n",
        "        approx = cv2.approxPolyDP(contours[i], 0.02*cv2.arcLength(contours[i], True), True)\n",
        "        if len(approx) != 4:\n",
        "            continue\n",
        "        # Проверяем, что наш контур - это квадрат\n",
        "        w = np.sqrt(np.sum((approx[0, 0] - approx[1, 0]) ** 2).astype(float))\n",
        "        h = np.sqrt(np.sum((approx[1, 0] - approx[2, 0]) ** 2).astype(float))\n",
        "        if abs(w - h) / min(w, h) > 0.25:\n",
        "            continue\n",
        "        # Проверяем, что внутри нашего контура есть другие контуры, площади которых относятся друг к другу как 49/25/9\n",
        "        area_a = cv2.contourArea(contours[family[0]])\n",
        "        area_b = cv2.contourArea(contours[family[1]])\n",
        "        area_c = cv2.contourArea(contours[family[2]])\n",
        "        if area_a == 0 or area_b == 0 or area_c == 0:\n",
        "            continue\n",
        "        ratio1 = area_a / area_b\n",
        "        ratio2 = area_b / area_c\n",
        "        if not (49 / 50) < ratio1 < (98 / 25) and not (25 / 18) < ratio2 < (50 / 9):\n",
        "            continue\n",
        "        good_contours_indxs.append(i)\n",
        "        good_families.append(family)\n",
        "\n",
        "    # У нас скопились родственные контуры их надо удалить, оставив только контуры-родители\n",
        "    dups = set()\n",
        "    for i in range(len(good_contours_indxs)):\n",
        "        for j in range(len(good_families)):\n",
        "            if i == j:\n",
        "                continue\n",
        "            if good_families[i][0] in good_families[j][1:]:\n",
        "                dups.add(good_contours_indxs[i])\n",
        "    final_contours_indxs = [candidate for candidate in good_contours_indxs if candidate not in dups]\n",
        "    return final_contours_indxs"
      ],
      "metadata": {
        "id": "9qzd4VeVdX-7"
      },
      "execution_count": 15,
      "outputs": []
    },
    {
      "cell_type": "code",
      "source": [
        "def draw_results(img, hierarchy, contours, contours_indxs, output_path):\n",
        "    result_img = img.copy()\n",
        "    color = (0, 255, 0)\n",
        "    for indx in contours_indxs:\n",
        "        cv2.drawContours(result_img, contours, indx, color, 5, cv2.LINE_8, hierarchy, 0)\n",
        "    cv2.imwrite(output_path, result_img)"
      ],
      "metadata": {
        "id": "eXGCLNF33hc0"
      },
      "execution_count": 16,
      "outputs": []
    },
    {
      "cell_type": "code",
      "source": [
        "import os\n",
        "import time\n",
        "\n",
        "time_start = time.time()\n",
        "for img_name in os.listdir(dataset_path):\n",
        "    img = cv2.imread(dataset_path + '/' + img_name, cv2.IMREAD_COLOR)\n",
        "    # Предобработаем изображение\n",
        "    preprocessed_img = img_preprocess(img)\n",
        "    # Найдем грани\n",
        "    edges = cv2.Canny(preprocessed_img, 80, 120, 7)\n",
        "    # Используем грани для поиска контуров\n",
        "    contours, hierarchy = cv2.findContours(edges, cv2.RETR_TREE, cv2.CHAIN_APPROX_SIMPLE)\n",
        "    hierarchy = hierarchy[0]\n",
        "    # найдем среди конутров find pattern'ы\n",
        "    final_contours_indxs = detect_find_patterns(hierarchy, contours)\n",
        "    # Нарисуем наши результаты\n",
        "    draw_results(img, hierarchy, contours, final_contours_indxs,'result_' + img_name)\n",
        "\n",
        "time_spent = time.time() - time_start\n",
        "print(f'Время работы: {time_spent} секунд')\n",
        "print(f'{(time_spent / len(os.listdir(dataset_path)))} секунд/картинка')"
      ],
      "metadata": {
        "colab": {
          "base_uri": "https://localhost:8080/"
        },
        "id": "31vMS6_MGQHO",
        "outputId": "5e16b46c-8590-4e58-b3a5-7fc881640e5a"
      },
      "execution_count": 20,
      "outputs": [
        {
          "output_type": "stream",
          "name": "stdout",
          "text": [
            "Время работы: 32.11927890777588 секунд\n",
            "0.6833889129314017 секунд/картинка\n"
          ]
        }
      ]
    },
    {
      "cell_type": "code",
      "source": [
        ""
      ],
      "metadata": {
        "id": "S2O-X3IBLjNa"
      },
      "execution_count": null,
      "outputs": []
    }
  ]
}